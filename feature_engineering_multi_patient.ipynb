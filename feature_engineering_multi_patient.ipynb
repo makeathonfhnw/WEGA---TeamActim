{
 "cells": [
  {
   "cell_type": "code",
   "execution_count": 96,
   "metadata": {},
   "outputs": [],
   "source": [
    "import pandas as pd\n",
    "import numpy as np\n",
    "import seaborn as sns"
   ]
  },
  {
   "cell_type": "code",
   "execution_count": 97,
   "metadata": {},
   "outputs": [],
   "source": [
    "classes = ['OTHER', 'SWEEPING', 'VACUUMING', 'DUSTING', 'RUBBING', 'DOWNSTAIRS', 'WALKING', 'WALKING_FAST', 'UPSTAIRS_FAST', 'UPSTAIRS']"
   ]
  },
  {
   "cell_type": "code",
   "execution_count": 98,
   "metadata": {},
   "outputs": [
    {
     "name": "stderr",
     "output_type": "stream",
     "text": [
      "C:\\Users\\Andreas\\AppData\\Local\\Programs\\Python\\Python37\\lib\\site-packages\\pandas\\core\\reshape\\merge.py:617: UserWarning: merging between different levels can give an unintended result (2 levels on the left, 1 on the right)\n",
      "  warnings.warn(msg, UserWarning)\n"
     ]
    }
   ],
   "source": [
    "XY_all = pd.DataFrame()\n",
    "for i in range(1, 10):\n",
    "    # load data\n",
    "    X = pd.read_csv('data/ankle/X_0' + str(i) + '.csv').join(pd.read_csv('data/hip/X_0' + str(i) + '.csv'), rsuffix='_hip')\n",
    "    Y = pd.read_csv('data/ankle/Y_0' + str(i) + '.csv')\n",
    "    XY_i = X.merge(Y, left_index=True, right_index=True)\n",
    "    XY_i['Timestamp'] = pd.to_datetime(XY_i['Timestamp'])\n",
    "    XY_i.set_index('Timestamp', inplace=True)\n",
    "    \n",
    "    # preprocess data\n",
    "    XY_i = XY_i.drop(columns = ['Temperature', 'Magnetometer X', 'Magnetometer Y', 'Magnetometer Z', 'Timestamp_hip', 'Temperature_hip', 'Magnetometer X_hip', 'Magnetometer Y_hip', 'Magnetometer Z_hip'])\n",
    "    XY_i_processed = XY_i.drop(columns = ['label']).rolling('10s').agg([np.mean, np.var, np.amin, np.amax])\n",
    "    XY_i_processed = XY_i_processed.join(XY_i['label'])\n",
    "    XY_i_processed = XY_i_processed.dropna()\n",
    "    XY_all = pd.concat([XY_i_processed.iloc[::100, :], XY_all])"
   ]
  },
  {
   "cell_type": "code",
   "execution_count": 99,
   "metadata": {
    "scrolled": true
   },
   "outputs": [
    {
     "data": {
      "text/html": [
       "<div>\n",
       "<style scoped>\n",
       "    .dataframe tbody tr th:only-of-type {\n",
       "        vertical-align: middle;\n",
       "    }\n",
       "\n",
       "    .dataframe tbody tr th {\n",
       "        vertical-align: top;\n",
       "    }\n",
       "\n",
       "    .dataframe thead th {\n",
       "        text-align: right;\n",
       "    }\n",
       "</style>\n",
       "<table border=\"1\" class=\"dataframe\">\n",
       "  <thead>\n",
       "    <tr style=\"text-align: right;\">\n",
       "      <th></th>\n",
       "      <th>(Accelerometer X, mean)</th>\n",
       "      <th>(Accelerometer X, var)</th>\n",
       "      <th>(Accelerometer X, amin)</th>\n",
       "      <th>(Accelerometer X, amax)</th>\n",
       "      <th>(Accelerometer Y, mean)</th>\n",
       "      <th>(Accelerometer Y, var)</th>\n",
       "      <th>(Accelerometer Y, amin)</th>\n",
       "      <th>(Accelerometer Y, amax)</th>\n",
       "      <th>(Accelerometer Z, mean)</th>\n",
       "      <th>(Accelerometer Z, var)</th>\n",
       "      <th>...</th>\n",
       "      <th>(Gyroscope X_hip, amax)</th>\n",
       "      <th>(Gyroscope Y_hip, mean)</th>\n",
       "      <th>(Gyroscope Y_hip, var)</th>\n",
       "      <th>(Gyroscope Y_hip, amin)</th>\n",
       "      <th>(Gyroscope Y_hip, amax)</th>\n",
       "      <th>(Gyroscope Z_hip, mean)</th>\n",
       "      <th>(Gyroscope Z_hip, var)</th>\n",
       "      <th>(Gyroscope Z_hip, amin)</th>\n",
       "      <th>(Gyroscope Z_hip, amax)</th>\n",
       "      <th>label</th>\n",
       "    </tr>\n",
       "    <tr>\n",
       "      <th>Timestamp</th>\n",
       "      <th></th>\n",
       "      <th></th>\n",
       "      <th></th>\n",
       "      <th></th>\n",
       "      <th></th>\n",
       "      <th></th>\n",
       "      <th></th>\n",
       "      <th></th>\n",
       "      <th></th>\n",
       "      <th></th>\n",
       "      <th></th>\n",
       "      <th></th>\n",
       "      <th></th>\n",
       "      <th></th>\n",
       "      <th></th>\n",
       "      <th></th>\n",
       "      <th></th>\n",
       "      <th></th>\n",
       "      <th></th>\n",
       "      <th></th>\n",
       "      <th></th>\n",
       "    </tr>\n",
       "  </thead>\n",
       "  <tbody>\n",
       "    <tr>\n",
       "      <th>2020-07-31 16:18:00.010</th>\n",
       "      <td>0.592774</td>\n",
       "      <td>0.000004</td>\n",
       "      <td>0.591309</td>\n",
       "      <td>0.594238</td>\n",
       "      <td>-0.828125</td>\n",
       "      <td>0.000000</td>\n",
       "      <td>-0.828125</td>\n",
       "      <td>-0.828125</td>\n",
       "      <td>-0.102051</td>\n",
       "      <td>0.000008</td>\n",
       "      <td>...</td>\n",
       "      <td>3.051758</td>\n",
       "      <td>-6.805421</td>\n",
       "      <td>0.016764</td>\n",
       "      <td>-6.896973</td>\n",
       "      <td>-6.713868</td>\n",
       "      <td>-0.396728</td>\n",
       "      <td>0.091270</td>\n",
       "      <td>-0.610352</td>\n",
       "      <td>-0.183105</td>\n",
       "      <td>0</td>\n",
       "    </tr>\n",
       "    <tr>\n",
       "      <th>2020-07-31 16:18:01.010</th>\n",
       "      <td>0.592089</td>\n",
       "      <td>0.000011</td>\n",
       "      <td>0.584961</td>\n",
       "      <td>0.602539</td>\n",
       "      <td>-0.825023</td>\n",
       "      <td>0.000067</td>\n",
       "      <td>-0.838379</td>\n",
       "      <td>-0.804199</td>\n",
       "      <td>-0.101333</td>\n",
       "      <td>0.000060</td>\n",
       "      <td>...</td>\n",
       "      <td>4.028321</td>\n",
       "      <td>-0.144809</td>\n",
       "      <td>5.244761</td>\n",
       "      <td>-6.896973</td>\n",
       "      <td>4.699707</td>\n",
       "      <td>0.387154</td>\n",
       "      <td>1.718834</td>\n",
       "      <td>-2.624512</td>\n",
       "      <td>2.380371</td>\n",
       "      <td>0</td>\n",
       "    </tr>\n",
       "    <tr>\n",
       "      <th>2020-07-31 16:18:02.010</th>\n",
       "      <td>0.592582</td>\n",
       "      <td>0.000007</td>\n",
       "      <td>0.584961</td>\n",
       "      <td>0.602539</td>\n",
       "      <td>-0.824586</td>\n",
       "      <td>0.000042</td>\n",
       "      <td>-0.838379</td>\n",
       "      <td>-0.804199</td>\n",
       "      <td>-0.104105</td>\n",
       "      <td>0.000045</td>\n",
       "      <td>...</td>\n",
       "      <td>4.028321</td>\n",
       "      <td>-0.208175</td>\n",
       "      <td>2.867849</td>\n",
       "      <td>-6.896973</td>\n",
       "      <td>4.699707</td>\n",
       "      <td>0.294909</td>\n",
       "      <td>0.923212</td>\n",
       "      <td>-2.624512</td>\n",
       "      <td>2.380371</td>\n",
       "      <td>0</td>\n",
       "    </tr>\n",
       "    <tr>\n",
       "      <th>2020-07-31 16:18:03.010</th>\n",
       "      <td>0.592866</td>\n",
       "      <td>0.000005</td>\n",
       "      <td>0.584961</td>\n",
       "      <td>0.602539</td>\n",
       "      <td>-0.824098</td>\n",
       "      <td>0.000030</td>\n",
       "      <td>-0.838379</td>\n",
       "      <td>-0.804199</td>\n",
       "      <td>-0.105409</td>\n",
       "      <td>0.000035</td>\n",
       "      <td>...</td>\n",
       "      <td>4.028321</td>\n",
       "      <td>-0.247902</td>\n",
       "      <td>1.985603</td>\n",
       "      <td>-6.896973</td>\n",
       "      <td>4.699707</td>\n",
       "      <td>0.271479</td>\n",
       "      <td>0.636841</td>\n",
       "      <td>-2.624512</td>\n",
       "      <td>2.380371</td>\n",
       "      <td>0</td>\n",
       "    </tr>\n",
       "    <tr>\n",
       "      <th>2020-07-31 16:18:04.010</th>\n",
       "      <td>0.593015</td>\n",
       "      <td>0.000005</td>\n",
       "      <td>0.584961</td>\n",
       "      <td>0.602539</td>\n",
       "      <td>-0.823785</td>\n",
       "      <td>0.000024</td>\n",
       "      <td>-0.838379</td>\n",
       "      <td>-0.804199</td>\n",
       "      <td>-0.106241</td>\n",
       "      <td>0.000030</td>\n",
       "      <td>...</td>\n",
       "      <td>4.028321</td>\n",
       "      <td>-0.227380</td>\n",
       "      <td>1.518085</td>\n",
       "      <td>-6.896973</td>\n",
       "      <td>4.699707</td>\n",
       "      <td>0.265134</td>\n",
       "      <td>0.482208</td>\n",
       "      <td>-2.624512</td>\n",
       "      <td>2.380371</td>\n",
       "      <td>0</td>\n",
       "    </tr>\n",
       "    <tr>\n",
       "      <th>...</th>\n",
       "      <td>...</td>\n",
       "      <td>...</td>\n",
       "      <td>...</td>\n",
       "      <td>...</td>\n",
       "      <td>...</td>\n",
       "      <td>...</td>\n",
       "      <td>...</td>\n",
       "      <td>...</td>\n",
       "      <td>...</td>\n",
       "      <td>...</td>\n",
       "      <td>...</td>\n",
       "      <td>...</td>\n",
       "      <td>...</td>\n",
       "      <td>...</td>\n",
       "      <td>...</td>\n",
       "      <td>...</td>\n",
       "      <td>...</td>\n",
       "      <td>...</td>\n",
       "      <td>...</td>\n",
       "      <td>...</td>\n",
       "      <td>...</td>\n",
       "    </tr>\n",
       "    <tr>\n",
       "      <th>2020-07-30 12:11:45.010</th>\n",
       "      <td>0.091274</td>\n",
       "      <td>0.728640</td>\n",
       "      <td>-5.961426</td>\n",
       "      <td>10.869629</td>\n",
       "      <td>-1.059004</td>\n",
       "      <td>0.585608</td>\n",
       "      <td>-9.498047</td>\n",
       "      <td>4.026367</td>\n",
       "      <td>0.105965</td>\n",
       "      <td>0.418724</td>\n",
       "      <td>...</td>\n",
       "      <td>81.298833</td>\n",
       "      <td>-0.168481</td>\n",
       "      <td>594.922029</td>\n",
       "      <td>-100.036627</td>\n",
       "      <td>77.758794</td>\n",
       "      <td>-0.218163</td>\n",
       "      <td>241.220519</td>\n",
       "      <td>-61.767582</td>\n",
       "      <td>44.921878</td>\n",
       "      <td>17</td>\n",
       "    </tr>\n",
       "    <tr>\n",
       "      <th>2020-07-30 12:11:46.010</th>\n",
       "      <td>0.094897</td>\n",
       "      <td>0.778978</td>\n",
       "      <td>-5.961426</td>\n",
       "      <td>10.869629</td>\n",
       "      <td>-1.046260</td>\n",
       "      <td>0.588652</td>\n",
       "      <td>-9.498047</td>\n",
       "      <td>4.026367</td>\n",
       "      <td>0.099129</td>\n",
       "      <td>0.391717</td>\n",
       "      <td>...</td>\n",
       "      <td>68.359379</td>\n",
       "      <td>0.026099</td>\n",
       "      <td>619.430672</td>\n",
       "      <td>-100.036627</td>\n",
       "      <td>77.758794</td>\n",
       "      <td>-0.687279</td>\n",
       "      <td>232.213385</td>\n",
       "      <td>-61.767582</td>\n",
       "      <td>40.466311</td>\n",
       "      <td>17</td>\n",
       "    </tr>\n",
       "    <tr>\n",
       "      <th>2020-07-30 12:11:47.010</th>\n",
       "      <td>0.107244</td>\n",
       "      <td>0.899352</td>\n",
       "      <td>-5.961426</td>\n",
       "      <td>10.869629</td>\n",
       "      <td>-1.037762</td>\n",
       "      <td>0.687963</td>\n",
       "      <td>-9.498047</td>\n",
       "      <td>4.026367</td>\n",
       "      <td>0.092429</td>\n",
       "      <td>0.464943</td>\n",
       "      <td>...</td>\n",
       "      <td>68.359379</td>\n",
       "      <td>-0.766218</td>\n",
       "      <td>607.590656</td>\n",
       "      <td>-89.965826</td>\n",
       "      <td>77.758794</td>\n",
       "      <td>-0.986422</td>\n",
       "      <td>227.804137</td>\n",
       "      <td>-61.767582</td>\n",
       "      <td>40.466311</td>\n",
       "      <td>0</td>\n",
       "    </tr>\n",
       "    <tr>\n",
       "      <th>2020-07-30 12:11:48.010</th>\n",
       "      <td>0.091418</td>\n",
       "      <td>0.847575</td>\n",
       "      <td>-5.961426</td>\n",
       "      <td>10.869629</td>\n",
       "      <td>-1.063804</td>\n",
       "      <td>0.661703</td>\n",
       "      <td>-9.498047</td>\n",
       "      <td>4.026367</td>\n",
       "      <td>0.088792</td>\n",
       "      <td>0.412686</td>\n",
       "      <td>...</td>\n",
       "      <td>68.359379</td>\n",
       "      <td>-0.099792</td>\n",
       "      <td>592.304561</td>\n",
       "      <td>-89.965826</td>\n",
       "      <td>77.758794</td>\n",
       "      <td>-0.495300</td>\n",
       "      <td>217.844375</td>\n",
       "      <td>-61.767582</td>\n",
       "      <td>40.466311</td>\n",
       "      <td>0</td>\n",
       "    </tr>\n",
       "    <tr>\n",
       "      <th>2020-07-30 12:11:49.010</th>\n",
       "      <td>0.076818</td>\n",
       "      <td>0.868886</td>\n",
       "      <td>-5.961426</td>\n",
       "      <td>10.869629</td>\n",
       "      <td>-1.045776</td>\n",
       "      <td>0.658646</td>\n",
       "      <td>-9.498047</td>\n",
       "      <td>4.026367</td>\n",
       "      <td>0.092300</td>\n",
       "      <td>0.417583</td>\n",
       "      <td>...</td>\n",
       "      <td>74.768071</td>\n",
       "      <td>-0.727234</td>\n",
       "      <td>627.154250</td>\n",
       "      <td>-89.965826</td>\n",
       "      <td>77.758794</td>\n",
       "      <td>-0.828613</td>\n",
       "      <td>232.530294</td>\n",
       "      <td>-61.767582</td>\n",
       "      <td>40.466311</td>\n",
       "      <td>0</td>\n",
       "    </tr>\n",
       "  </tbody>\n",
       "</table>\n",
       "<p>25887 rows × 49 columns</p>\n",
       "</div>"
      ],
      "text/plain": [
       "                         (Accelerometer X, mean)  (Accelerometer X, var)  \\\n",
       "Timestamp                                                                  \n",
       "2020-07-31 16:18:00.010                 0.592774                0.000004   \n",
       "2020-07-31 16:18:01.010                 0.592089                0.000011   \n",
       "2020-07-31 16:18:02.010                 0.592582                0.000007   \n",
       "2020-07-31 16:18:03.010                 0.592866                0.000005   \n",
       "2020-07-31 16:18:04.010                 0.593015                0.000005   \n",
       "...                                          ...                     ...   \n",
       "2020-07-30 12:11:45.010                 0.091274                0.728640   \n",
       "2020-07-30 12:11:46.010                 0.094897                0.778978   \n",
       "2020-07-30 12:11:47.010                 0.107244                0.899352   \n",
       "2020-07-30 12:11:48.010                 0.091418                0.847575   \n",
       "2020-07-30 12:11:49.010                 0.076818                0.868886   \n",
       "\n",
       "                         (Accelerometer X, amin)  (Accelerometer X, amax)  \\\n",
       "Timestamp                                                                   \n",
       "2020-07-31 16:18:00.010                 0.591309                 0.594238   \n",
       "2020-07-31 16:18:01.010                 0.584961                 0.602539   \n",
       "2020-07-31 16:18:02.010                 0.584961                 0.602539   \n",
       "2020-07-31 16:18:03.010                 0.584961                 0.602539   \n",
       "2020-07-31 16:18:04.010                 0.584961                 0.602539   \n",
       "...                                          ...                      ...   \n",
       "2020-07-30 12:11:45.010                -5.961426                10.869629   \n",
       "2020-07-30 12:11:46.010                -5.961426                10.869629   \n",
       "2020-07-30 12:11:47.010                -5.961426                10.869629   \n",
       "2020-07-30 12:11:48.010                -5.961426                10.869629   \n",
       "2020-07-30 12:11:49.010                -5.961426                10.869629   \n",
       "\n",
       "                         (Accelerometer Y, mean)  (Accelerometer Y, var)  \\\n",
       "Timestamp                                                                  \n",
       "2020-07-31 16:18:00.010                -0.828125                0.000000   \n",
       "2020-07-31 16:18:01.010                -0.825023                0.000067   \n",
       "2020-07-31 16:18:02.010                -0.824586                0.000042   \n",
       "2020-07-31 16:18:03.010                -0.824098                0.000030   \n",
       "2020-07-31 16:18:04.010                -0.823785                0.000024   \n",
       "...                                          ...                     ...   \n",
       "2020-07-30 12:11:45.010                -1.059004                0.585608   \n",
       "2020-07-30 12:11:46.010                -1.046260                0.588652   \n",
       "2020-07-30 12:11:47.010                -1.037762                0.687963   \n",
       "2020-07-30 12:11:48.010                -1.063804                0.661703   \n",
       "2020-07-30 12:11:49.010                -1.045776                0.658646   \n",
       "\n",
       "                         (Accelerometer Y, amin)  (Accelerometer Y, amax)  \\\n",
       "Timestamp                                                                   \n",
       "2020-07-31 16:18:00.010                -0.828125                -0.828125   \n",
       "2020-07-31 16:18:01.010                -0.838379                -0.804199   \n",
       "2020-07-31 16:18:02.010                -0.838379                -0.804199   \n",
       "2020-07-31 16:18:03.010                -0.838379                -0.804199   \n",
       "2020-07-31 16:18:04.010                -0.838379                -0.804199   \n",
       "...                                          ...                      ...   \n",
       "2020-07-30 12:11:45.010                -9.498047                 4.026367   \n",
       "2020-07-30 12:11:46.010                -9.498047                 4.026367   \n",
       "2020-07-30 12:11:47.010                -9.498047                 4.026367   \n",
       "2020-07-30 12:11:48.010                -9.498047                 4.026367   \n",
       "2020-07-30 12:11:49.010                -9.498047                 4.026367   \n",
       "\n",
       "                         (Accelerometer Z, mean)  (Accelerometer Z, var)  ...  \\\n",
       "Timestamp                                                                 ...   \n",
       "2020-07-31 16:18:00.010                -0.102051                0.000008  ...   \n",
       "2020-07-31 16:18:01.010                -0.101333                0.000060  ...   \n",
       "2020-07-31 16:18:02.010                -0.104105                0.000045  ...   \n",
       "2020-07-31 16:18:03.010                -0.105409                0.000035  ...   \n",
       "2020-07-31 16:18:04.010                -0.106241                0.000030  ...   \n",
       "...                                          ...                     ...  ...   \n",
       "2020-07-30 12:11:45.010                 0.105965                0.418724  ...   \n",
       "2020-07-30 12:11:46.010                 0.099129                0.391717  ...   \n",
       "2020-07-30 12:11:47.010                 0.092429                0.464943  ...   \n",
       "2020-07-30 12:11:48.010                 0.088792                0.412686  ...   \n",
       "2020-07-30 12:11:49.010                 0.092300                0.417583  ...   \n",
       "\n",
       "                         (Gyroscope X_hip, amax)  (Gyroscope Y_hip, mean)  \\\n",
       "Timestamp                                                                   \n",
       "2020-07-31 16:18:00.010                 3.051758                -6.805421   \n",
       "2020-07-31 16:18:01.010                 4.028321                -0.144809   \n",
       "2020-07-31 16:18:02.010                 4.028321                -0.208175   \n",
       "2020-07-31 16:18:03.010                 4.028321                -0.247902   \n",
       "2020-07-31 16:18:04.010                 4.028321                -0.227380   \n",
       "...                                          ...                      ...   \n",
       "2020-07-30 12:11:45.010                81.298833                -0.168481   \n",
       "2020-07-30 12:11:46.010                68.359379                 0.026099   \n",
       "2020-07-30 12:11:47.010                68.359379                -0.766218   \n",
       "2020-07-30 12:11:48.010                68.359379                -0.099792   \n",
       "2020-07-30 12:11:49.010                74.768071                -0.727234   \n",
       "\n",
       "                         (Gyroscope Y_hip, var)  (Gyroscope Y_hip, amin)  \\\n",
       "Timestamp                                                                  \n",
       "2020-07-31 16:18:00.010                0.016764                -6.896973   \n",
       "2020-07-31 16:18:01.010                5.244761                -6.896973   \n",
       "2020-07-31 16:18:02.010                2.867849                -6.896973   \n",
       "2020-07-31 16:18:03.010                1.985603                -6.896973   \n",
       "2020-07-31 16:18:04.010                1.518085                -6.896973   \n",
       "...                                         ...                      ...   \n",
       "2020-07-30 12:11:45.010              594.922029              -100.036627   \n",
       "2020-07-30 12:11:46.010              619.430672              -100.036627   \n",
       "2020-07-30 12:11:47.010              607.590656               -89.965826   \n",
       "2020-07-30 12:11:48.010              592.304561               -89.965826   \n",
       "2020-07-30 12:11:49.010              627.154250               -89.965826   \n",
       "\n",
       "                         (Gyroscope Y_hip, amax)  (Gyroscope Z_hip, mean)  \\\n",
       "Timestamp                                                                   \n",
       "2020-07-31 16:18:00.010                -6.713868                -0.396728   \n",
       "2020-07-31 16:18:01.010                 4.699707                 0.387154   \n",
       "2020-07-31 16:18:02.010                 4.699707                 0.294909   \n",
       "2020-07-31 16:18:03.010                 4.699707                 0.271479   \n",
       "2020-07-31 16:18:04.010                 4.699707                 0.265134   \n",
       "...                                          ...                      ...   \n",
       "2020-07-30 12:11:45.010                77.758794                -0.218163   \n",
       "2020-07-30 12:11:46.010                77.758794                -0.687279   \n",
       "2020-07-30 12:11:47.010                77.758794                -0.986422   \n",
       "2020-07-30 12:11:48.010                77.758794                -0.495300   \n",
       "2020-07-30 12:11:49.010                77.758794                -0.828613   \n",
       "\n",
       "                         (Gyroscope Z_hip, var)  (Gyroscope Z_hip, amin)  \\\n",
       "Timestamp                                                                  \n",
       "2020-07-31 16:18:00.010                0.091270                -0.610352   \n",
       "2020-07-31 16:18:01.010                1.718834                -2.624512   \n",
       "2020-07-31 16:18:02.010                0.923212                -2.624512   \n",
       "2020-07-31 16:18:03.010                0.636841                -2.624512   \n",
       "2020-07-31 16:18:04.010                0.482208                -2.624512   \n",
       "...                                         ...                      ...   \n",
       "2020-07-30 12:11:45.010              241.220519               -61.767582   \n",
       "2020-07-30 12:11:46.010              232.213385               -61.767582   \n",
       "2020-07-30 12:11:47.010              227.804137               -61.767582   \n",
       "2020-07-30 12:11:48.010              217.844375               -61.767582   \n",
       "2020-07-30 12:11:49.010              232.530294               -61.767582   \n",
       "\n",
       "                         (Gyroscope Z_hip, amax)  label  \n",
       "Timestamp                                                \n",
       "2020-07-31 16:18:00.010                -0.183105      0  \n",
       "2020-07-31 16:18:01.010                 2.380371      0  \n",
       "2020-07-31 16:18:02.010                 2.380371      0  \n",
       "2020-07-31 16:18:03.010                 2.380371      0  \n",
       "2020-07-31 16:18:04.010                 2.380371      0  \n",
       "...                                          ...    ...  \n",
       "2020-07-30 12:11:45.010                44.921878     17  \n",
       "2020-07-30 12:11:46.010                40.466311     17  \n",
       "2020-07-30 12:11:47.010                40.466311      0  \n",
       "2020-07-30 12:11:48.010                40.466311      0  \n",
       "2020-07-30 12:11:49.010                40.466311      0  \n",
       "\n",
       "[25887 rows x 49 columns]"
      ]
     },
     "execution_count": 99,
     "metadata": {},
     "output_type": "execute_result"
    }
   ],
   "source": [
    "XY_all"
   ]
  },
  {
   "cell_type": "code",
   "execution_count": null,
   "metadata": {},
   "outputs": [],
   "source": []
  },
  {
   "cell_type": "code",
   "execution_count": 100,
   "metadata": {},
   "outputs": [
    {
     "data": {
      "text/plain": [
       "count    25887.000000\n",
       "mean         3.613204\n",
       "std          5.728232\n",
       "min          0.000000\n",
       "25%          0.000000\n",
       "50%          0.000000\n",
       "75%          9.000000\n",
       "max         17.000000\n",
       "Name: label, dtype: float64"
      ]
     },
     "execution_count": 100,
     "metadata": {},
     "output_type": "execute_result"
    }
   ],
   "source": [
    "XY_all['label'].describe()"
   ]
  },
  {
   "cell_type": "code",
   "execution_count": 101,
   "metadata": {
    "scrolled": true
   },
   "outputs": [],
   "source": [
    "XY_processed = XY_all.reset_index()"
   ]
  },
  {
   "cell_type": "code",
   "execution_count": 102,
   "metadata": {},
   "outputs": [
    {
     "data": {
      "text/plain": [
       "Index([                    'Timestamp',     ('Accelerometer X', 'mean'),\n",
       "            ('Accelerometer X', 'var'),     ('Accelerometer X', 'amin'),\n",
       "           ('Accelerometer X', 'amax'),     ('Accelerometer Y', 'mean'),\n",
       "            ('Accelerometer Y', 'var'),     ('Accelerometer Y', 'amin'),\n",
       "           ('Accelerometer Y', 'amax'),     ('Accelerometer Z', 'mean'),\n",
       "            ('Accelerometer Z', 'var'),     ('Accelerometer Z', 'amin'),\n",
       "           ('Accelerometer Z', 'amax'),         ('Gyroscope X', 'mean'),\n",
       "                ('Gyroscope X', 'var'),         ('Gyroscope X', 'amin'),\n",
       "               ('Gyroscope X', 'amax'),         ('Gyroscope Y', 'mean'),\n",
       "                ('Gyroscope Y', 'var'),         ('Gyroscope Y', 'amin'),\n",
       "               ('Gyroscope Y', 'amax'),         ('Gyroscope Z', 'mean'),\n",
       "                ('Gyroscope Z', 'var'),         ('Gyroscope Z', 'amin'),\n",
       "               ('Gyroscope Z', 'amax'), ('Accelerometer X_hip', 'mean'),\n",
       "        ('Accelerometer X_hip', 'var'), ('Accelerometer X_hip', 'amin'),\n",
       "       ('Accelerometer X_hip', 'amax'), ('Accelerometer Y_hip', 'mean'),\n",
       "        ('Accelerometer Y_hip', 'var'), ('Accelerometer Y_hip', 'amin'),\n",
       "       ('Accelerometer Y_hip', 'amax'), ('Accelerometer Z_hip', 'mean'),\n",
       "        ('Accelerometer Z_hip', 'var'), ('Accelerometer Z_hip', 'amin'),\n",
       "       ('Accelerometer Z_hip', 'amax'),     ('Gyroscope X_hip', 'mean'),\n",
       "            ('Gyroscope X_hip', 'var'),     ('Gyroscope X_hip', 'amin'),\n",
       "           ('Gyroscope X_hip', 'amax'),     ('Gyroscope Y_hip', 'mean'),\n",
       "            ('Gyroscope Y_hip', 'var'),     ('Gyroscope Y_hip', 'amin'),\n",
       "           ('Gyroscope Y_hip', 'amax'),     ('Gyroscope Z_hip', 'mean'),\n",
       "            ('Gyroscope Z_hip', 'var'),     ('Gyroscope Z_hip', 'amin'),\n",
       "           ('Gyroscope Z_hip', 'amax'),                         'label'],\n",
       "      dtype='object')"
      ]
     },
     "execution_count": 102,
     "metadata": {},
     "output_type": "execute_result"
    }
   ],
   "source": [
    "XY_processed.columns"
   ]
  },
  {
   "cell_type": "code",
   "execution_count": 103,
   "metadata": {},
   "outputs": [],
   "source": [
    "#XY_processed = XY_processed[XY_processed['label'] != 0]\n",
    "X = XY_processed.drop(columns = ['label', 'Timestamp'])\n",
    "Y = pd.DataFrame(XY_processed['label'])['label']"
   ]
  },
  {
   "cell_type": "code",
   "execution_count": null,
   "metadata": {
    "scrolled": true
   },
   "outputs": [],
   "source": []
  },
  {
   "cell_type": "code",
   "execution_count": 104,
   "metadata": {},
   "outputs": [],
   "source": [
    "from sklearn.model_selection import train_test_split\n",
    "\n",
    "X_train, X_test, y_train, y_test = train_test_split(X, Y, test_size=0.20, random_state=42)"
   ]
  },
  {
   "cell_type": "code",
   "execution_count": 105,
   "metadata": {},
   "outputs": [
    {
     "data": {
      "text/plain": [
       "Index([    ('Accelerometer X', 'mean'),      ('Accelerometer X', 'var'),\n",
       "           ('Accelerometer X', 'amin'),     ('Accelerometer X', 'amax'),\n",
       "           ('Accelerometer Y', 'mean'),      ('Accelerometer Y', 'var'),\n",
       "           ('Accelerometer Y', 'amin'),     ('Accelerometer Y', 'amax'),\n",
       "           ('Accelerometer Z', 'mean'),      ('Accelerometer Z', 'var'),\n",
       "           ('Accelerometer Z', 'amin'),     ('Accelerometer Z', 'amax'),\n",
       "               ('Gyroscope X', 'mean'),          ('Gyroscope X', 'var'),\n",
       "               ('Gyroscope X', 'amin'),         ('Gyroscope X', 'amax'),\n",
       "               ('Gyroscope Y', 'mean'),          ('Gyroscope Y', 'var'),\n",
       "               ('Gyroscope Y', 'amin'),         ('Gyroscope Y', 'amax'),\n",
       "               ('Gyroscope Z', 'mean'),          ('Gyroscope Z', 'var'),\n",
       "               ('Gyroscope Z', 'amin'),         ('Gyroscope Z', 'amax'),\n",
       "       ('Accelerometer X_hip', 'mean'),  ('Accelerometer X_hip', 'var'),\n",
       "       ('Accelerometer X_hip', 'amin'), ('Accelerometer X_hip', 'amax'),\n",
       "       ('Accelerometer Y_hip', 'mean'),  ('Accelerometer Y_hip', 'var'),\n",
       "       ('Accelerometer Y_hip', 'amin'), ('Accelerometer Y_hip', 'amax'),\n",
       "       ('Accelerometer Z_hip', 'mean'),  ('Accelerometer Z_hip', 'var'),\n",
       "       ('Accelerometer Z_hip', 'amin'), ('Accelerometer Z_hip', 'amax'),\n",
       "           ('Gyroscope X_hip', 'mean'),      ('Gyroscope X_hip', 'var'),\n",
       "           ('Gyroscope X_hip', 'amin'),     ('Gyroscope X_hip', 'amax'),\n",
       "           ('Gyroscope Y_hip', 'mean'),      ('Gyroscope Y_hip', 'var'),\n",
       "           ('Gyroscope Y_hip', 'amin'),     ('Gyroscope Y_hip', 'amax'),\n",
       "           ('Gyroscope Z_hip', 'mean'),      ('Gyroscope Z_hip', 'var'),\n",
       "           ('Gyroscope Z_hip', 'amin'),     ('Gyroscope Z_hip', 'amax')],\n",
       "      dtype='object')"
      ]
     },
     "execution_count": 105,
     "metadata": {},
     "output_type": "execute_result"
    }
   ],
   "source": [
    "X_test.columns"
   ]
  },
  {
   "cell_type": "code",
   "execution_count": 106,
   "metadata": {},
   "outputs": [
    {
     "data": {
      "text/plain": [
       "<matplotlib.axes._subplots.AxesSubplot at 0x2dc01067f88>"
      ]
     },
     "execution_count": 106,
     "metadata": {},
     "output_type": "execute_result"
    },
    {
     "data": {
      "image/png": "[encoded data removed]",
      "text/plain": [
       "<Figure size 432x288 with 1 Axes>"
      ]
     },
     "metadata": {
      "needs_background": "light"
     },
     "output_type": "display_data"
    }
   ],
   "source": [
    "sns.distplot(y_test)"
   ]
  },
  {
   "cell_type": "code",
   "execution_count": 107,
   "metadata": {},
   "outputs": [
    {
     "data": {
      "text/plain": [
       "<matplotlib.axes._subplots.AxesSubplot at 0x2dc05c9b708>"
      ]
     },
     "execution_count": 107,
     "metadata": {},
     "output_type": "execute_result"
    },
    {
     "data": {
      "image/png": "[encoded data removed]",
      "text/plain": [
       "<Figure size 432x288 with 1 Axes>"
      ]
     },
     "metadata": {
      "needs_background": "light"
     },
     "output_type": "display_data"
    }
   ],
   "source": [
    "sns.distplot(y_train)"
   ]
  },
  {
   "cell_type": "code",
   "execution_count": 108,
   "metadata": {},
   "outputs": [
    {
     "name": "stderr",
     "output_type": "stream",
     "text": [
      "C:\\Users\\Andreas\\AppData\\Local\\Programs\\Python\\Python37\\lib\\site-packages\\sklearn\\ensemble\\forest.py:245: FutureWarning: The default value of n_estimators will change from 10 in version 0.20 to 100 in 0.22.\n",
      "  \"10 in version 0.20 to 100 in 0.22.\", FutureWarning)\n"
     ]
    },
    {
     "data": {
      "text/plain": [
       "RandomForestClassifier(bootstrap=True, class_weight=None, criterion='gini',\n",
       "                       max_depth=18, max_features='auto', max_leaf_nodes=None,\n",
       "                       min_impurity_decrease=0.0, min_impurity_split=None,\n",
       "                       min_samples_leaf=1, min_samples_split=2,\n",
       "                       min_weight_fraction_leaf=0.0, n_estimators=10,\n",
       "                       n_jobs=None, oob_score=False, random_state=42, verbose=0,\n",
       "                       warm_start=False)"
      ]
     },
     "execution_count": 108,
     "metadata": {},
     "output_type": "execute_result"
    }
   ],
   "source": [
    "from sklearn.ensemble import RandomForestClassifier\n",
    "from sklearn.metrics import confusion_matrix\n",
    "from sklearn.metrics import f1_score\n",
    "rf = RandomForestClassifier(max_depth=18, random_state=42)\n",
    "rf.fit(X_train, y_train)"
   ]
  },
  {
   "cell_type": "code",
   "execution_count": 109,
   "metadata": {},
   "outputs": [
    {
     "data": {
      "text/plain": [
       "0.9824256469679413"
      ]
     },
     "execution_count": 109,
     "metadata": {},
     "output_type": "execute_result"
    }
   ],
   "source": [
    "rf.score(X_test, y_test)"
   ]
  },
  {
   "cell_type": "code",
   "execution_count": 115,
   "metadata": {},
   "outputs": [],
   "source": [
    "y_test_pred = rf.predict(X_test)\n",
    "cm = confusion_matrix(y_test, y_test_pred)"
   ]
  },
  {
   "cell_type": "code",
   "execution_count": 111,
   "metadata": {},
   "outputs": [
    {
     "data": {
      "text/plain": [
       "0.9823757711950108"
      ]
     },
     "execution_count": 111,
     "metadata": {},
     "output_type": "execute_result"
    }
   ],
   "source": [
    "f1_score(y_test, y_test_pred, average='weighted')"
   ]
  },
  {
   "cell_type": "code",
   "execution_count": 112,
   "metadata": {},
   "outputs": [
    {
     "data": {
      "text/plain": [
       "['OTHER',\n",
       " 'SWEEPING',\n",
       " 'VACUUMING',\n",
       " 'DUSTING',\n",
       " 'RUBBING',\n",
       " 'DOWNSTAIRS',\n",
       " 'WALKING',\n",
       " 'WALKING_FAST',\n",
       " 'UPSTAIRS_FAST',\n",
       " 'UPSTAIRS']"
      ]
     },
     "execution_count": 112,
     "metadata": {},
     "output_type": "execute_result"
    }
   ],
   "source": [
    "classes"
   ]
  },
  {
   "cell_type": "code",
   "execution_count": 113,
   "metadata": {},
   "outputs": [],
   "source": [
    "def print_confusion_matrix(confusion_matrix, class_names, figsize = (10,7), fontsize=14):\n",
    "    \"\"\"Prints a confusion matrix, as returned by sklearn.metrics.confusion_matrix, as a heatmap.\n",
    "    \n",
    "    Arguments\n",
    "    ---------\n",
    "    confusion_matrix: numpy.ndarray\n",
    "        The numpy.ndarray object returned from a call to sklearn.metrics.confusion_matrix. \n",
    "        Similarly constructed ndarrays can also be used.\n",
    "    class_names: list\n",
    "        An ordered list of class names, in the order they index the given confusion matrix.\n",
    "    figsize: tuple\n",
    "        A 2-long tuple, the first value determining the horizontal size of the ouputted figure,\n",
    "        the second determining the vertical size. Defaults to (10,7).\n",
    "    fontsize: int\n",
    "        Font size for axes labels. Defaults to 14.\n",
    "        \n",
    "    Returns\n",
    "    -------\n",
    "    matplotlib.figure.Figure\n",
    "        The resulting confusion matrix figure\n",
    "    \"\"\"\n",
    "    df_cm = pd.DataFrame(\n",
    "        confusion_matrix, index=class_names, columns=class_names, \n",
    "    )\n",
    "    fig = plt.figure(figsize=figsize)\n",
    "    try:\n",
    "        heatmap = sns.heatmap(df_cm, annot=True, fmt=\"d\", cmap=\"mako_r\")\n",
    "    except ValueError:\n",
    "        raise ValueError(\"Confusion matrix values must be integers.\")\n",
    "    heatmap.yaxis.set_ticklabels(heatmap.yaxis.get_ticklabels(), rotation=0, ha='right', fontsize=fontsize)\n",
    "    heatmap.xaxis.set_ticklabels(heatmap.xaxis.get_ticklabels(), rotation=45, ha='right', fontsize=fontsize)\n",
    "    plt.ylabel('True label')\n",
    "    plt.xlabel('Predicted label')\n",
    "    return fig"
   ]
  },
  {
   "cell_type": "code",
   "execution_count": 116,
   "metadata": {},
   "outputs": [
    {
     "data": {
      "image/png": "[encoded data removed]",
      "text/plain": [
       "<Figure size 720x504 with 2 Axes>"
      ]
     },
     "execution_count": 116,
     "metadata": {},
     "output_type": "execute_result"
    },
    {
     "data": {
      "image/png": "[encoded data removed]",
      "text/plain": [
       "<Figure size 720x504 with 2 Axes>"
      ]
     },
     "metadata": {
      "needs_background": "light"
     },
     "output_type": "display_data"
    }
   ],
   "source": [
    "import matplotlib.pyplot as plt\n",
    "print_confusion_matrix(cm, classes)"
   ]
  },
  {
   "cell_type": "code",
   "execution_count": null,
   "metadata": {},
   "outputs": [],
   "source": []
  }
 ],
 "metadata": {
  "kernelspec": {
   "display_name": "Python 3.7.5 64-bit",
   "language": "python",
   "name": "python37564bit21b3afdc986542d9b9a76db0eb57dda3"
  },
  "language_info": {
   "codemirror_mode": {
    "name": "ipython",
    "version": 3
   },
   "file_extension": ".py",
   "mimetype": "text/x-python",
   "name": "python",
   "nbconvert_exporter": "python",
   "pygments_lexer": "ipython3",
   "version": "3.7.5"
  }
 },
 "nbformat": 4,
 "nbformat_minor": 2
}
